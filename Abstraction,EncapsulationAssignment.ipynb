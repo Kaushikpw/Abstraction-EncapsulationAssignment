{
 "cells": [
  {
   "cell_type": "code",
   "execution_count": 19,
   "id": "4c2f31cb-a2cd-4a6c-a716-a3f61bfb8d3e",
   "metadata": {},
   "outputs": [],
   "source": [
    "#Q1. What is Abstraction in OOps? Explain with an example.\n",
    "#Ans.: \n",
    "#Abstraction:\n",
    "#    Abstraction in Python is defined as a process of handling complexity by hiding unnecessary\n",
    "#information from the user. This is one of the core concepts of object-oreinted programming(OOP)\n",
    "#language.\n",
    "\n",
    "#Example:\n",
    "\n",
    "import abc\n",
    "\n",
    "class University:\n",
    "    @abc.abstractmethod\n",
    "    def Courses(self):\n",
    "        pass\n",
    "    @abc.abstractmethod\n",
    "    def students_enrolled(self):\n",
    "        pass\n",
    "    @abc.abstractmethod\n",
    "    def students_joining(self):\n",
    "        pass"
   ]
  },
  {
   "cell_type": "code",
   "execution_count": 20,
   "id": "7fe13a7f-bce3-43ad-8430-6d94e64e35ed",
   "metadata": {},
   "outputs": [],
   "source": [
    "class Life_Sciences(University):\n",
    "    \n",
    "    def Courses(self):\n",
    "        return \"There are 7 Courses available to enroll including Life_Sciences.\"\n",
    "    def students_enrolled(self):\n",
    "        return \"Total of 45 students enrolled for Life_Sciences course this year.\""
   ]
  },
  {
   "cell_type": "code",
   "execution_count": 21,
   "id": "4e8c4b3b-a46e-459f-b84c-dcb42ebcd82a",
   "metadata": {},
   "outputs": [],
   "source": [
    "class Commerce_dept(University):\n",
    "    \n",
    "    def Courses(self):\n",
    "        return \"There are only 2 courses available only commerce out of 7 courses.\"\n",
    "    \n",
    "    def students_enrolled(self):\n",
    "        return \"45 students enrolled for BBM course and 30 students enrolled for B.Com.\""
   ]
  },
  {
   "cell_type": "code",
   "execution_count": 27,
   "id": "84dffe25-16de-45e2-8b4f-d7842995b3a5",
   "metadata": {},
   "outputs": [],
   "source": [
    "University = Life_Sciences()"
   ]
  },
  {
   "cell_type": "code",
   "execution_count": 24,
   "id": "52b4603c-ff3a-478d-8011-70448f548252",
   "metadata": {},
   "outputs": [],
   "source": [
    "University = Commerce_dept()"
   ]
  },
  {
   "cell_type": "code",
   "execution_count": 25,
   "id": "f39766ae-abb5-4fc8-8a08-6fed0e92faac",
   "metadata": {},
   "outputs": [
    {
     "data": {
      "text/plain": [
       "'There are only 2 courses available only commerce out of 7 courses.'"
      ]
     },
     "execution_count": 25,
     "metadata": {},
     "output_type": "execute_result"
    }
   ],
   "source": [
    "University.Courses()"
   ]
  },
  {
   "cell_type": "code",
   "execution_count": 26,
   "id": "bedd1200-740d-4784-8945-80336d5bc516",
   "metadata": {},
   "outputs": [
    {
     "data": {
      "text/plain": [
       "'45 students enrolled for BBM course and 30 students enrolled for B.Com.'"
      ]
     },
     "execution_count": 26,
     "metadata": {},
     "output_type": "execute_result"
    }
   ],
   "source": [
    "University.students_enrolled()"
   ]
  },
  {
   "cell_type": "code",
   "execution_count": 28,
   "id": "eff24d1a-b368-4933-a541-3c4b034a64f7",
   "metadata": {},
   "outputs": [
    {
     "data": {
      "text/plain": [
       "'There are 7 Courses available to enroll including Life_Sciences.'"
      ]
     },
     "execution_count": 28,
     "metadata": {},
     "output_type": "execute_result"
    }
   ],
   "source": [
    "University.Courses()"
   ]
  },
  {
   "cell_type": "code",
   "execution_count": 30,
   "id": "08377bd8-79f4-4adc-8730-f7db9fb85de5",
   "metadata": {},
   "outputs": [
    {
     "data": {
      "text/plain": [
       "'Total of 45 students enrolled for Life_Sciences course this year.'"
      ]
     },
     "execution_count": 30,
     "metadata": {},
     "output_type": "execute_result"
    }
   ],
   "source": [
    "University.students_enrolled()"
   ]
  },
  {
   "cell_type": "code",
   "execution_count": 1,
   "id": "4c93e583-c725-49cc-81b3-0832961e7048",
   "metadata": {},
   "outputs": [],
   "source": [
    "#Q2. Differentiate between Abstraction and Encapsulation. Explain with an example.\n",
    "#Ans.:\n",
    "#    Abstraction:\n",
    "# *It is a process of handling complexity by hiding unnecessary information from the user.\n",
    "# *It solves the problem in the design level.\n",
    "# *Abstraction lets you focus on what the object does instead of how it does it.\n",
    "# *Adstraction: Out layer, used in terms of design.\n",
    "# *For Example: outer look of a Mobile phone, like it has a display screen & keypad buttons to dial a number.\n",
    "\n",
    "#    Encapsulation:\n",
    "# *It describes the idea of wrapping data & the methods that work on data within one unit.\n",
    "# *It solves the problem in the implementation level.\n",
    "# *It means hiding the internal details or mechanic of how an object does something.\n",
    "# *Encapsulation: Inner layer, used in terms of implementation.\n",
    "# *For example: inner implementation detail of a mobile phone, \n",
    "# *how keypad button & display screen are connect with each other using circuits."
   ]
  },
  {
   "cell_type": "code",
   "execution_count": 2,
   "id": "dc361297-438e-4843-a24b-09ad91bda4d1",
   "metadata": {},
   "outputs": [],
   "source": [
    "#Example for Abstraction:\n",
    "#For example, let’s say we have a class called Car that has methods such as start_engine(), accelerate(), and brake().\n",
    "#The user only needs to know that they can start the engine, accelerate, and brake the car, but they don't need to know how these methods are implemented. \n",
    "#Here's what the code would look like:\n",
    "class Car:\n",
    "    def start_engine(self):\n",
    "        # Implementation details hidden\n",
    "        print(\"Engine started\")\n",
    "\n",
    "    def accelerate(self):\n",
    "        # Implementation details hidden\n",
    "        print(\"Accelerating\")\n",
    "\n",
    "    def brake(self):\n",
    "        # Implementation details hidden\n",
    "        print(\"Braking\")\n",
    "        \n",
    "#In this example, the user can use the Car class in a straightforward way, \n",
    "#without having to worry about the implementation details."
   ]
  },
  {
   "cell_type": "code",
   "execution_count": 3,
   "id": "f59e9c9c-328a-412e-8c0a-73e9fdaa5aaf",
   "metadata": {},
   "outputs": [],
   "source": [
    "#Example for Encapsulation:\n",
    "#For example, let’s say we have a class called BankAccount that has attributes such as balance and account_number and methods such as deposit() and withdraw(). \n",
    "#We want to ensure that the balance can only be modified through the deposit() and withdraw() methods and not directly. \n",
    "#Here's what the code would look like:\n",
    "class BankAccount:\n",
    "    \n",
    "    def __init__(self, balance, account_number):\n",
    "        self.__balance = balance\n",
    "        self.__account_number = account_number\n",
    "    \n",
    "    def deposit(self, amount):\n",
    "        self.__balance += amount\n",
    "        \n",
    "    def withdraw(self, amount):\n",
    "        if self.__balance >= amount:\n",
    "            self.__balance -= amount\n",
    "        else:\n",
    "            print(\"Insufficient funds\")\n",
    "            \n",
    "    def get_balance(self):\n",
    "        return self.__balance\n",
    "#In this example, the balance and account_number attributes are prefixed with two underscores, which makes them private. \n",
    "#This means that they can only be accessed within the BankAccount class and not outside of it. \n",
    "#The user can only modify the balance through the deposit() and withdraw() methods, ensuring that the data is secure."
   ]
  },
  {
   "cell_type": "code",
   "execution_count": 4,
   "id": "a384ee5d-b42e-4fc6-9e8b-f735bbba84ab",
   "metadata": {},
   "outputs": [],
   "source": [
    "#Q3. What is abc module in python? Why is it used?\n",
    "#Ans.: abc module provides the infrastructure for defining the base of Abstract Base Classes(ABC).\n",
    "#We cannot create abstract class directly without using the abc module in Python."
   ]
  },
  {
   "cell_type": "code",
   "execution_count": 1,
   "id": "6e883a18-6842-4017-8d2d-0b2634414522",
   "metadata": {},
   "outputs": [],
   "source": [
    "#Q4. How can we achieve data abstraction?\n",
    "#Ans.:\n",
    "#Data Abstraction can be achieved through creating abstract classes and inherting them later.\n",
    "#For Example:\n",
    "from abc import ABC, abstractmethod\n",
    "\n",
    "class Animal(ABC):\n",
    "    \n",
    "    #concrete method\n",
    "    def sleep(self):\n",
    "        print(\"I am going to sleep in a while\")\n",
    "        \n",
    "    @abstractmethod\n",
    "    def sound(self):\n",
    "        print(\"This function is for defining the sound by any animal\")\n",
    "    pass"
   ]
  },
  {
   "cell_type": "code",
   "execution_count": 2,
   "id": "941a50b1-6e91-462c-b404-a68e569159cd",
   "metadata": {},
   "outputs": [],
   "source": [
    "class snake(Animal):\n",
    "    def sound(self):\n",
    "        print(\"I can hiss\")"
   ]
  },
  {
   "cell_type": "code",
   "execution_count": 3,
   "id": "2678dd12-acf4-463e-9861-53f4c3d939e7",
   "metadata": {},
   "outputs": [],
   "source": [
    "class Dog(Animal):\n",
    "    def sound(self):\n",
    "        print(\"I can bark\")"
   ]
  },
  {
   "cell_type": "code",
   "execution_count": 4,
   "id": "b9833d81-b649-495e-b938-ca0794ff776f",
   "metadata": {},
   "outputs": [],
   "source": [
    "class Lion(Animal):\n",
    "    def sound(self):\n",
    "        print(\"I can roar\")"
   ]
  },
  {
   "cell_type": "code",
   "execution_count": 5,
   "id": "64d5170b-13bf-44f5-bb84-5e4b58689604",
   "metadata": {},
   "outputs": [],
   "source": [
    "class Cat(Animal):\n",
    "    def sound(self):\n",
    "        print(\"I can meow\")"
   ]
  },
  {
   "cell_type": "code",
   "execution_count": 6,
   "id": "578cd42c-e45f-4932-b7a5-3c8c26d71922",
   "metadata": {},
   "outputs": [],
   "source": [
    "c = Cat()\n",
    "s = snake()\n",
    "l = Lion()\n",
    "D = Dog()"
   ]
  },
  {
   "cell_type": "code",
   "execution_count": 7,
   "id": "41a7c8ce-0f0f-446d-b2b0-29df23e3259d",
   "metadata": {},
   "outputs": [
    {
     "name": "stdout",
     "output_type": "stream",
     "text": [
      "I can meow\n"
     ]
    }
   ],
   "source": [
    "c.sound()"
   ]
  },
  {
   "cell_type": "code",
   "execution_count": 8,
   "id": "77e722d2-4c6b-4928-b4c5-5603dec797ee",
   "metadata": {},
   "outputs": [
    {
     "name": "stdout",
     "output_type": "stream",
     "text": [
      "I can bark\n"
     ]
    }
   ],
   "source": [
    "D.sound()"
   ]
  },
  {
   "cell_type": "code",
   "execution_count": 9,
   "id": "6c578991-df43-4bec-925a-17bca0f3719e",
   "metadata": {},
   "outputs": [
    {
     "name": "stdout",
     "output_type": "stream",
     "text": [
      "I can roar\n"
     ]
    }
   ],
   "source": [
    "l.sound()"
   ]
  },
  {
   "cell_type": "code",
   "execution_count": 10,
   "id": "1dfefbed-645e-4033-8ee8-0aa697b982af",
   "metadata": {},
   "outputs": [
    {
     "name": "stdout",
     "output_type": "stream",
     "text": [
      "I can hiss\n"
     ]
    }
   ],
   "source": [
    "s.sound()"
   ]
  },
  {
   "cell_type": "code",
   "execution_count": null,
   "id": "e770e12a-293f-4090-a847-0a2155a02555",
   "metadata": {},
   "outputs": [],
   "source": [
    "#Q5. Can we create an instance of an abstract class? Explain your answer.\n",
    "#Ans.: An abstract class cannot be instantiated. An abstract class may contain abstract methods and accessors.\n",
    "# It is not possible to modify an abstract class with the sealed modifier because the two modifiers have opposite meanings."
   ]
  }
 ],
 "metadata": {
  "kernelspec": {
   "display_name": "Python 3 (ipykernel)",
   "language": "python",
   "name": "python3"
  },
  "language_info": {
   "codemirror_mode": {
    "name": "ipython",
    "version": 3
   },
   "file_extension": ".py",
   "mimetype": "text/x-python",
   "name": "python",
   "nbconvert_exporter": "python",
   "pygments_lexer": "ipython3",
   "version": "3.10.8"
  }
 },
 "nbformat": 4,
 "nbformat_minor": 5
}
